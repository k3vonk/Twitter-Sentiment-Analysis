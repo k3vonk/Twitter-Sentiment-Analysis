{
 "cells": [
  {
   "cell_type": "markdown",
   "metadata": {
    "colab_type": "text",
    "id": "ys28mQ6a9DFM"
   },
   "source": [
    "# Introduction\n",
    "\n",
    "<b>Group B</b>   | <b>Team 8</b> <br> \n",
    "<b>Student Name</b>   | <b>Student ID</b> <br> \n",
    "\n",
    "Zheng Ju | 16205656 <br>\n",
    "Royal Thomas | 16326926 <br>\n",
    "Ga Jun Young | 16440714 <br>\n",
    "\n",
    "<br>\n",
    "The following is a notebook outlining the steps to build a deep learning sentiment analysis model based on the dataset from:\n",
    "<a href=\"https://https://www.kaggle.com/kazanova/sentiment140\">https://https://www.kaggle.com/kazanova/sentiment140</a>\n",
    "\n",
    "<br>\n",
    "<br>\n",
    "<b>Note</b>: Originally, the notebook was intended for Kaggle Notebook usage due to TPU (30hours per 3 days) availability which decreases the training time. \n",
    "A setup can be found here: https://www.kaggle.com/docs/tpu. This reduced the training time of the model by 94%! But due to assignment restriction we have removed the code to train under the TPU. \n",
    "Under the TPU, it would take less than 1 min per epoch. But depending on personal GPU or CPU, it takes approximately 18 mins per epoch - Google Colab GPU.\n",
    "\n",
    "We have moved away from that aspect and the notebook can now be deployed locally.\n",
    "\n",
    "<br>\n",
    "<br>\n",
    "In order to create the model <b>5 major steps</b> are involved:\n",
    "\n",
    "<ol>\n",
    "    <li>Tweet Preprocessing</li>\n",
    "    <li>Text Representation</li>\n",
    "    <li>Generate Embedding Matrix</li>\n",
    "    <li>Modelling</li>\n",
    "    <li>Deployment</li>\n",
    "</ol>"
   ]
  },
  {
   "cell_type": "markdown",
   "metadata": {
    "colab_type": "text",
    "id": "DsbDWAxHH7WK"
   },
   "source": [
    "# Setup Project"
   ]
  },
  {
   "cell_type": "markdown",
   "metadata": {
    "colab_type": "text",
    "id": "XCO61wJN9DFO"
   },
   "source": [
    "## `Install requirements`\n",
    "\n",
    "Specific requirements are necessary to preprocess, embed, and construct the deep learning model."
   ]
  },
  {
   "cell_type": "code",
   "execution_count": null,
   "metadata": {
    "colab": {},
    "colab_type": "code",
    "id": "8M0CoRUP9DFO"
   },
   "outputs": [],
   "source": [
    "# Install the requirements \n",
    "# IMPORTANT: Sometimes you'll face errors using just pip, try using pip3! \n",
    "!pip install -r requirements.txt"
   ]
  },
  {
   "cell_type": "markdown",
   "metadata": {
    "colab_type": "text",
    "id": "Q0Od1JbD9DFS"
   },
   "source": [
    "## `Import libraries`"
   ]
  },
  {
   "cell_type": "code",
   "execution_count": 8,
   "metadata": {
    "colab": {},
    "colab_type": "code",
    "id": "64jdi6xz9DFS"
   },
   "outputs": [],
   "source": [
    "# DataFrame\n",
    "import pandas as pd\n",
    "from tqdm.auto import tqdm\n",
    "tqdm.pandas() # visible progress bar\n",
    "\n",
    "# Matplot\n",
    "import matplotlib.pyplot as plt\n",
    "\n",
    "# tensorflow\n",
    "import tensorflow as tf\n",
    "from tensorflow import keras  \n",
    "\n",
    "# keras \n",
    "from tensorflow.keras.preprocessing.text import Tokenizer\n",
    "from tensorflow.keras.preprocessing.sequence import pad_sequences\n",
    "from tensorflow.keras.models import Sequential, Model\n",
    "from tensorflow.keras.layers import Bidirectional, MaxPooling1D, Dense, Input, LSTM, Embedding, Dropout, Activation, Conv1D, concatenate, SpatialDropout1D, GlobalMaxPooling1D, GlobalAveragePooling1D\n",
    "from tensorflow.keras.callbacks import ReduceLROnPlateau, EarlyStopping, ModelCheckpoint\n",
    "# Scikit-learn\n",
    "from sklearn.model_selection import train_test_split\n",
    "from sklearn.preprocessing import LabelEncoder\n",
    "\n",
    "# Utility\n",
    "import numpy as np\n",
    "import string \n",
    "import os\n",
    "import os.path\n",
    "from os import path\n",
    "from collections import Counter\n",
    "import re\n",
    "import contractions\n",
    "import gc #collect memory"
   ]
  },
  {
   "cell_type": "markdown",
   "metadata": {
    "colab_type": "text",
    "id": "4Qr6fMVi9DFV"
   },
   "source": [
    "## `Instantiate Constant variables`"
   ]
  },
  {
   "cell_type": "code",
   "execution_count": 3,
   "metadata": {
    "colab": {},
    "colab_type": "code",
    "id": "KWfS91mL9DFW"
   },
   "outputs": [],
   "source": [
    "# DataFrame\n",
    "DATASET_FIELDS = ['target', 'ids', 'date', 'flag', 'user', 'text']\n",
    "PREPROCESSED_DATASET_FIELDS = ['target', 'text']\n",
    "DATASET_ENCODING = 'ISO-8859-1'\n",
    "DATASET_FILEPATH = 'training.1600000.processed.noemoticon.csv'\n",
    "TRAIN_SIZE = 0.8\n",
    "RANDOM_SEED = 0\n",
    "\n",
    "# Decode Target\n",
    "DECODE_MAP = {0: 'negative', 2: 'neutral', 4: 'positive'}\n",
    "\n",
    "# Tokenizer\n",
    "MAX_FEATURES = 20000 \n",
    "MAX_LENGTH = 300\n",
    "\n",
    "#os \n",
    "USERNAME = \"gajunyoung\" # username from the json file\n",
    "KEY = \"8fcfb8936176f2c15c331c4b574bf7e5\" # key from the json file\n",
    "\n",
    "# Embedding files\n",
    "EMBEDDING_FILES = [\n",
    "    'crawl-300d-2M.vec',\n",
    "    'glove.840B.300d.txt'\n",
    "]\n"
   ]
  },
  {
   "cell_type": "markdown",
   "metadata": {
    "colab_type": "text",
    "id": "1gsEPfmr9DFZ"
   },
   "source": [
    "## `Download the dataset and pre-trained embeddings from Kaggle`\n",
    "\n",
    "The dataset is from Sentiment140\n",
    "\n",
    "The pre-trained embeddings are GloVe and fastText"
   ]
  },
  {
   "cell_type": "code",
   "execution_count": 6,
   "metadata": {
    "colab": {},
    "colab_type": "code",
    "id": "dDUBTqJe9DFa"
   },
   "outputs": [
    {
     "name": "stdout",
     "output_type": "stream",
     "text": [
      "Downloading glove840b300dtxt.zip to /Users/royalthomas/Documents/Deep Learning\n",
      "100%|██████████████████████████████████████| 2.08G/2.08G [08:51<00:00, 4.37MB/s]\n",
      "100%|██████████████████████████████████████| 2.08G/2.08G [08:51<00:00, 4.20MB/s]\n"
     ]
    }
   ],
   "source": [
    "os.environ['KAGGLE_USERNAME'] = USERNAME # username from the json file\n",
    "os.environ['KAGGLE_KEY'] = KEY # key from the json file\n",
    "\n",
    "\n",
    "if(not path.exists(DATASET_FILEPATH)):\n",
    "    # Download the dataset \n",
    "    !kaggle datasets download -d kazanova/sentiment140\n",
    "\n",
    "    #unzip the sentiment file\n",
    "    !unzip -q sentiment140.zip\n",
    "\n",
    "def download_word_vectors():\n",
    "    # Download glove if doesn't already exist\n",
    "    if(not path.exists(EMBEDDING_FILES[1])):\n",
    "        !kaggle datasets download -d takuok/glove840b300dtxt\n",
    "        !unzip -q glove840b300dtxt.zip\n",
    "    \n",
    "    # Download FastText if doesn't already exist.\n",
    "    if(not path.exists(EMBEDDING_FILES[0])):\n",
    "        !kaggle datasets download -d  yekenot/fasttext-crawl-300d-2m\n",
    "        !unzip -q fasttext-crawl-300d-2m.zip\n",
    "\n",
    "download_word_vectors()\n"
   ]
  },
  {
   "cell_type": "markdown",
   "metadata": {
    "colab_type": "text",
    "id": "-4PhEAnv9DFc"
   },
   "source": [
    "# Test the initial dataset\n",
    "\n",
    "Load the CSV and draw a bar plot on size of positive and negative tweets"
   ]
  },
  {
   "cell_type": "code",
   "execution_count": 9,
   "metadata": {
    "colab": {},
    "colab_type": "code",
    "id": "rmvjihL09DFd"
   },
   "outputs": [
    {
     "name": "stdout",
     "output_type": "stream",
     "text": [
      "   target                                               text\n",
      "0       0  @switchfoot http://twitpic.com/2y1zl - Awww, t...\n",
      "1       0  is upset that he can't update his Facebook by ...\n",
      "2       0  @Kenichan I dived many times for the ball. Man...\n",
      "3       0    my whole body feels itchy and like its on fire \n",
      "4       0  @nationwideclass no, it's not behaving at all....\n"
     ]
    },
    {
     "data": {
      "image/png": "[encoded data removed]",
      "text/plain": [
       "<Figure size 432x288 with 1 Axes>"
      ]
     },
     "metadata": {
      "needs_background": "light"
     },
     "output_type": "display_data"
    }
   ],
   "source": [
    "#check the data\n",
    "df = pd.read_csv(DATASET_FILEPATH,  encoding=DATASET_ENCODING, names=DATASET_FIELDS)\n",
    "df = df[['target', 'text']]\n",
    "print(df.head())\n",
    "\n",
    "# label targets as negative, neutral, positive and display the dataset\n",
    "targets = Counter(df.target.apply(lambda x: DECODE_MAP[int(x)]))\n",
    "\n",
    "plt.bar(targets.keys(), targets.values())\n",
    "plt.title(\"Dataset Sentiment count\")\n",
    "plt.show()"
   ]
  },
  {
   "cell_type": "markdown",
   "metadata": {
    "colab_type": "text",
    "id": "nrxrz6t59DFg"
   },
   "source": [
    "# 1. Preprocessing datasets\n",
    "\n",
    "The team decided to preprocess the following from the dataset:\n",
    "\n",
    "<ul>\n",
    "  <li>Convert tweets to lower case</li>\n",
    "  <li>Remove URL links</li>\n",
    "  <li>Remove @mentions</li>\n",
    "  <li>Remove # in #hashtags</li>\n",
    "  <li>Contraction expansion</li>\n",
    "  <li>Remove special characters</li>\n",
    "  <li>Remove additional spaces</li>\n",
    "</ul>\n",
    "\n",
    "Note: Initially, we converted emoticons to text and removed stop words. However, through testing the accuracy decreased. Therefore, it is not an appropriate preprocessing method when it comes to building a deep learning model for our approach."
   ]
  },
  {
   "cell_type": "code",
   "execution_count": 10,
   "metadata": {
    "colab": {},
    "colab_type": "code",
    "id": "JWN_RNZ69DFh"
   },
   "outputs": [],
   "source": [
    "def clean_tweet(tweet):\n",
    "    \n",
    "    tweet = tweet.lower()\n",
    "\n",
    "    # remove www/HTTPS/HTTP links & other links\n",
    "    tweet = re.sub(r'\\b(?:(?:https?|ftp)://)?\\w[\\w-]*(?:\\.[\\w-]+)+\\S*', ' ', tweet)\n",
    "\n",
    "    # remove mentions\n",
    "    tweet = re.sub('@[^\\s]+','', tweet) \n",
    "\n",
    "    # remove # in #hashtags\n",
    "    tweet = re.sub(r'#([^\\s]+)', r'\\1', tweet)\n",
    "\n",
    "    # expand contractions\n",
    "    tweet = contractions.fix(tweet)\n",
    "\n",
    "    # remove any characters that are not a-z\n",
    "    tweet = re.sub(r'[^a-z]+', ' ', tweet) \n",
    "\n",
    "    # remove trailing spaces and additional spaces\n",
    "    tweet = re.sub(' +', ' ', tweet)\n",
    "    tweet = tweet.strip() \n",
    "    \n",
    "    return tweet"
   ]
  },
  {
   "cell_type": "code",
   "execution_count": 11,
   "metadata": {
    "colab": {},
    "colab_type": "code",
    "id": "BBUMoyjP9DFj"
   },
   "outputs": [
    {
     "data": {
      "application/vnd.jupyter.widget-view+json": {
       "model_id": "f39c3ccd831b4f6199d50cae5ae75b43",
       "version_major": 2,
       "version_minor": 0
      },
      "text/plain": [
       "HBox(children=(FloatProgress(value=0.0, max=1600000.0), HTML(value='')))"
      ]
     },
     "metadata": {},
     "output_type": "display_data"
    },
    {
     "name": "stdout",
     "output_type": "stream",
     "text": [
      "\n"
     ]
    }
   ],
   "source": [
    "# apply preprocessing\n",
    "df.text = df.text.progress_map(lambda x: clean_tweet(x))"
   ]
  },
  {
   "cell_type": "markdown",
   "metadata": {
    "colab_type": "text",
    "id": "DmUOMm7y9DFl"
   },
   "source": [
    "## `Split the dataframe into training and test set`"
   ]
  },
  {
   "cell_type": "code",
   "execution_count": 12,
   "metadata": {
    "colab": {},
    "colab_type": "code",
    "id": "bXL1Rs-49DFm"
   },
   "outputs": [
    {
     "name": "stdout",
     "output_type": "stream",
     "text": [
      "DF Train size: 1280000\n",
      "DF Test size: 320000\n"
     ]
    }
   ],
   "source": [
    "df_train, df_test = train_test_split(df, test_size=1-TRAIN_SIZE, random_state=RANDOM_SEED)\n",
    "print(\"DF Train size:\", len(df_train))\n",
    "print(\"DF Test size:\", len(df_test))"
   ]
  },
  {
   "cell_type": "markdown",
   "metadata": {
    "colab_type": "text",
    "id": "aTBWDGxm9DFo"
   },
   "source": [
    "# 2. Text Representation\n",
    "\n",
    "Utilizing keras tokenizer to tokenize, convert text to sequences, and pad the sequences"
   ]
  },
  {
   "cell_type": "code",
   "execution_count": 13,
   "metadata": {
    "colab": {},
    "colab_type": "code",
    "id": "0vg0NZ-D9DFo"
   },
   "outputs": [
    {
     "data": {
      "application/vnd.jupyter.widget-view+json": {
       "model_id": "7ed73c397b12469a98b4331f54e0ec28",
       "version_major": 2,
       "version_minor": 0
      },
      "text/plain": [
       "HBox(children=(FloatProgress(value=0.0, max=1280000.0), HTML(value='')))"
      ]
     },
     "metadata": {},
     "output_type": "display_data"
    },
    {
     "name": "stdout",
     "output_type": "stream",
     "text": [
      "\n"
     ]
    },
    {
     "data": {
      "application/vnd.jupyter.widget-view+json": {
       "model_id": "8e635b9071884ca0981002b7753c974d",
       "version_major": 2,
       "version_minor": 0
      },
      "text/plain": [
       "HBox(children=(FloatProgress(value=0.0, max=1280000.0), HTML(value='')))"
      ]
     },
     "metadata": {},
     "output_type": "display_data"
    },
    {
     "name": "stdout",
     "output_type": "stream",
     "text": [
      "\n"
     ]
    },
    {
     "data": {
      "application/vnd.jupyter.widget-view+json": {
       "model_id": "927d3c903f1242a6b7ca2b8517f11bcf",
       "version_major": 2,
       "version_minor": 0
      },
      "text/plain": [
       "HBox(children=(FloatProgress(value=0.0, max=320000.0), HTML(value='')))"
      ]
     },
     "metadata": {},
     "output_type": "display_data"
    },
    {
     "name": "stdout",
     "output_type": "stream",
     "text": [
      "\n"
     ]
    },
    {
     "data": {
      "application/vnd.jupyter.widget-view+json": {
       "model_id": "4dfc2fbd01744d54bf8e6e8dde9f1402",
       "version_major": 2,
       "version_minor": 0
      },
      "text/plain": [
       "HBox(children=(FloatProgress(value=0.0, max=1280000.0), HTML(value='')))"
      ]
     },
     "metadata": {},
     "output_type": "display_data"
    },
    {
     "name": "stdout",
     "output_type": "stream",
     "text": [
      "\n"
     ]
    },
    {
     "data": {
      "application/vnd.jupyter.widget-view+json": {
       "model_id": "0a8e150eeb514337a76fbfa149b15fc1",
       "version_major": 2,
       "version_minor": 0
      },
      "text/plain": [
       "HBox(children=(FloatProgress(value=0.0, max=320000.0), HTML(value='')))"
      ]
     },
     "metadata": {},
     "output_type": "display_data"
    },
    {
     "name": "stdout",
     "output_type": "stream",
     "text": [
      "\n"
     ]
    }
   ],
   "source": [
    "# create tokenizer and fit\n",
    "tokenizer = Tokenizer()\n",
    "tokenizer.fit_on_texts(tqdm(df_train.text))\n",
    "\n",
    "# tokenize the sentences\n",
    "x_train = tokenizer.texts_to_sequences(tqdm(df_train.text))\n",
    "x_test = tokenizer.texts_to_sequences(tqdm(df_test.text))\n",
    "\n",
    "# pad the sentences\n",
    "x_train = pad_sequences(tqdm(x_train), maxlen=None)\n",
    "x_test = pad_sequences(tqdm(x_test), maxlen=len(x_train[0]))"
   ]
  },
  {
   "cell_type": "markdown",
   "metadata": {
    "colab_type": "text",
    "id": "YuXa5wHY9DFr"
   },
   "source": [
    "## `Encode outputs to 0, 1`"
   ]
  },
  {
   "cell_type": "code",
   "execution_count": 14,
   "metadata": {
    "colab": {},
    "colab_type": "code",
    "id": "9YfOuhuQ9DFr"
   },
   "outputs": [
    {
     "name": "stdout",
     "output_type": "stream",
     "text": [
      "x_train (1280000, 53)\n",
      "y_train (1280000, 1)\n",
      "\n",
      "x_test (320000, 53)\n",
      "y_test (320000, 1)\n"
     ]
    }
   ],
   "source": [
    "encoder = LabelEncoder()\n",
    "encoder.fit(df_train.target.tolist())\n",
    "\n",
    "y_train = encoder.transform(df_train.target.tolist())\n",
    "y_test = encoder.transform(df_test.target.tolist())\n",
    "\n",
    "y_train = y_train.reshape(-1, 1)\n",
    "y_test = y_test.reshape(-1, 1)\n",
    "\n",
    "print(\"x_train\", x_train.shape)\n",
    "print(\"y_train\", y_train.shape)\n",
    "print()\n",
    "print(\"x_test\", x_test.shape)\n",
    "print(\"y_test\", y_test.shape)"
   ]
  },
  {
   "cell_type": "markdown",
   "metadata": {
    "colab_type": "text",
    "id": "Tg75GE0O9DFt"
   },
   "source": [
    "# 3. Generate Embedding  Matrix\n",
    "\n",
    "Enables a mapping of words to vectors based on a corpus of text. For the purpose of this notebook, we use two datasets, glove.840B.300d and crawl-300d-2M.vec.\n",
    "\n"
   ]
  },
  {
   "cell_type": "code",
   "execution_count": 15,
   "metadata": {
    "colab": {},
    "colab_type": "code",
    "id": "557iaTlK9DFu"
   },
   "outputs": [
    {
     "data": {
      "application/vnd.jupyter.widget-view+json": {
       "model_id": "8d3c310c77454d45ad17e09c5ff72d17",
       "version_major": 2,
       "version_minor": 0
      },
      "text/plain": [
       "HBox(children=(FloatProgress(value=0.0, max=2.0), HTML(value='')))"
      ]
     },
     "metadata": {},
     "output_type": "display_data"
    },
    {
     "name": "stdout",
     "output_type": "stream",
     "text": [
      "Found 2000000 word vectors from: crawl-300d-2M.vec.\n"
     ]
    },
    {
     "data": {
      "application/vnd.jupyter.widget-view+json": {
       "model_id": "401dea0c4751436ab19daf1e0940a7ce",
       "version_major": 2,
       "version_minor": 0
      },
      "text/plain": [
       "HBox(children=(FloatProgress(value=0.0, max=229959.0), HTML(value='')))"
      ]
     },
     "metadata": {},
     "output_type": "display_data"
    },
    {
     "name": "stdout",
     "output_type": "stream",
     "text": [
      "\n",
      "Found 2196008 word vectors from: glove.840B.300d.txt.\n"
     ]
    },
    {
     "data": {
      "application/vnd.jupyter.widget-view+json": {
       "model_id": "fc9eeb17ecaf4d069fad6c028eb42779",
       "version_major": 2,
       "version_minor": 0
      },
      "text/plain": [
       "HBox(children=(FloatProgress(value=0.0, max=229959.0), HTML(value='')))"
      ]
     },
     "metadata": {},
     "output_type": "display_data"
    },
    {
     "name": "stdout",
     "output_type": "stream",
     "text": [
      "\n",
      "\n"
     ]
    }
   ],
   "source": [
    "def get_coefs(word, *arr):\n",
    "    return word, np.asarray(arr, dtype='float32')\n",
    "\n",
    "def load_embeddings(path):\n",
    "    with open(path) as f:\n",
    "      return dict(get_coefs(*line.strip().split(' ')) for line in f)\n",
    "\n",
    "# build embedding matrix. 300 due to the dimensions of our inputs being 300\n",
    "embedding_dim = 300\n",
    "\n",
    "def build_matrix(word_index, path):\n",
    "    embedding_index = load_embeddings(path)\n",
    "    print('Found %s word vectors from: %s.' % (len(embedding_index), path))\n",
    "    embedding_matrix = np.zeros((len(word_index) + 1, embedding_dim))\n",
    "\n",
    "    for word, i in tqdm(word_index.items()):\n",
    "      try:\n",
    "          embedding_matrix[i] = embedding_index[word]\n",
    "      except KeyError:\n",
    "          pass\n",
    "    return embedding_matrix\n",
    "\n",
    "\n",
    "# concatenate the two resulting word embeddings\n",
    "embedding_matrix =  np.concatenate(\n",
    "    [build_matrix(tokenizer.word_index, f) for f in tqdm(EMBEDDING_FILES)], axis=-1)    "
   ]
  },
  {
   "cell_type": "markdown",
   "metadata": {
    "colab_type": "text",
    "id": "z9CpHSiW9DFy"
   },
   "source": [
    "# 4. Modeling\n",
    "\n",
    "Use a set of layers to build our model including one of the embedding layers we have created.\n",
    "\n",
    "Note: On Kaggle Notebook we are provided with a TPU which has a 30 hour limit per 3 days. Therefore, our team decided to use the TPU to produce faster modeling results."
   ]
  },
  {
   "cell_type": "code",
   "execution_count": 16,
   "metadata": {
    "colab": {},
    "colab_type": "code",
    "id": "SnqJJOis9DFy"
   },
   "outputs": [],
   "source": [
    "# LSTM Model - Baseline. \n",
    "def build_model_LSTM(use_pretrained=False):\n",
    "        embed_dim = 128\n",
    "        lstm_out = 196\n",
    "        spatial_dropout_rate = 0.4\n",
    "        lstm_dropout_rate = 0.2\n",
    "        model = Sequential()\n",
    "        if(use_pretrained):\n",
    "            model.add(Embedding(embedding_matrix.shape[0], embedding_matrix.shape[1], weights=[embedding_matrix], trainable=False))\n",
    "        else:\n",
    "            model.add(Embedding(len(tokenizer.word_index) + 1, embed_dim, input_length=len(x_train[0])))\n",
    "        model.add(SpatialDropout1D(spatial_dropout_rate))\n",
    "        model.add(LSTM(lstm_out, dropout=lstm_dropout_rate, recurrent_dropout=lstm_dropout_rate))\n",
    "        model.add(Dense(1,activation='sigmoid'))\n",
    "        model.compile(loss = 'binary_crossentropy', optimizer='adam',metrics = ['accuracy'])\n",
    "        return model\n",
    "\n",
    "# CNN + LSTM Model, improvement over the LSTM model when using trainable embeddings\n",
    "def build_model_CNN_LSTM(use_pretrained=False):\n",
    "        filter_size = 200 \n",
    "        ksize = 3 #kernel size\n",
    "        dropout_rate = 0.3\n",
    "        model = Sequential()\n",
    "        if(use_pretrained):\n",
    "            model.add(Embedding(embedding_matrix.shape[0], embedding_matrix.shape[1], weights=[embedding_matrix], trainable=False))\n",
    "        else:\n",
    "            model.add(Embedding(len(tokenizer.word_index) + 1, 100, input_length=len(x_train[0])))\n",
    "        model.add(Conv1D(filters=filter_size, kernel_size=ksize, padding='same', activation='relu'))\n",
    "        model.add(MaxPooling1D(pool_size=2))\n",
    "        model.add(LSTM(100, recurrent_dropout = dropout_rate, dropout=dropout_rate,))\n",
    "        model.add(Dense(1, activation='sigmoid'))\n",
    "        model.compile(loss='binary_crossentropy', optimizer='nadam', metrics=['accuracy'])\n",
    "        return model    \n",
    "\n",
    "# Proposed model, uses Bidirectional LSTM layers.\n",
    "def build_model_BiLSTM(use_pretrained=False):\n",
    "        INPUT_LENGTH = len(x_train[0])\n",
    "        words = Input(shape=(INPUT_LENGTH,))\n",
    "        if(use_pretrained):\n",
    "            embedding = Embedding(embedding_matrix.shape[0], embedding_matrix.shape[1], weights=[embedding_matrix], trainable=False)(words)\n",
    "        else:\n",
    "            embedding = Embedding(len(tokenizer.word_index) + 1, 100, input_length=len(x_train[0]))(words)\n",
    "        bilstm1 = Bidirectional(LSTM(100, return_sequences=True))(embedding)\n",
    "        dropout = SpatialDropout1D(0.2)(bilstm1)\n",
    "        bilstm2 = Bidirectional(LSTM(100, return_sequences=True))(dropout)\n",
    "\n",
    "        hidden = concatenate([\n",
    "            GlobalMaxPooling1D()(bilstm2),\n",
    "            GlobalAveragePooling1D()(bilstm2),\n",
    "        ])\n",
    "\n",
    "        result = Dense(1, activation='sigmoid')(hidden)\n",
    "        model = Model(inputs=words, outputs=result)\n",
    "        model.compile(loss='binary_crossentropy', optimizer='adam', metrics=['accuracy'])\n",
    "\n",
    "        return model"
   ]
  },
  {
   "cell_type": "markdown",
   "metadata": {
    "colab_type": "text",
    "id": "W-e0DVh5fj6y"
   },
   "source": [
    "## `BiLSTM`"
   ]
  },
  {
   "cell_type": "code",
   "execution_count": 17,
   "metadata": {
    "colab": {},
    "colab_type": "code",
    "id": "hwg4TURM9DF0"
   },
   "outputs": [
    {
     "name": "stdout",
     "output_type": "stream",
     "text": [
      "Model: \"model\"\n",
      "__________________________________________________________________________________________________\n",
      "Layer (type)                    Output Shape         Param #     Connected to                     \n",
      "==================================================================================================\n",
      "input_1 (InputLayer)            [(None, 53)]         0                                            \n",
      "__________________________________________________________________________________________________\n",
      "embedding (Embedding)           (None, 53, 600)      137976000   input_1[0][0]                    \n",
      "__________________________________________________________________________________________________\n",
      "bidirectional (Bidirectional)   (None, 53, 200)      560800      embedding[0][0]                  \n",
      "__________________________________________________________________________________________________\n",
      "spatial_dropout1d (SpatialDropo (None, 53, 200)      0           bidirectional[0][0]              \n",
      "__________________________________________________________________________________________________\n",
      "bidirectional_1 (Bidirectional) (None, 53, 200)      240800      spatial_dropout1d[0][0]          \n",
      "__________________________________________________________________________________________________\n",
      "global_max_pooling1d (GlobalMax (None, 200)          0           bidirectional_1[0][0]            \n",
      "__________________________________________________________________________________________________\n",
      "global_average_pooling1d (Globa (None, 200)          0           bidirectional_1[0][0]            \n",
      "__________________________________________________________________________________________________\n",
      "concatenate (Concatenate)       (None, 400)          0           global_max_pooling1d[0][0]       \n",
      "                                                                 global_average_pooling1d[0][0]   \n",
      "__________________________________________________________________________________________________\n",
      "dense (Dense)                   (None, 1)            401         concatenate[0][0]                \n",
      "==================================================================================================\n",
      "Total params: 138,778,001\n",
      "Trainable params: 802,001\n",
      "Non-trainable params: 137,976,000\n",
      "__________________________________________________________________________________________________\n",
      "Train on 1152000 samples, validate on 128000 samples\n",
      "Epoch 1/10\n",
      "1152000/1152000 [==============================] - 2809s 2ms/sample - loss: 0.4078 - accuracy: 0.8125 - val_loss: 0.3780 - val_accuracy: 0.8305\n",
      "Epoch 2/10\n",
      "1152000/1152000 [==============================] - 2787s 2ms/sample - loss: 0.3681 - accuracy: 0.8352 - val_loss: 0.3696 - val_accuracy: 0.8357\n",
      "Epoch 3/10\n",
      "1152000/1152000 [==============================] - 2780s 2ms/sample - loss: 0.3511 - accuracy: 0.8439 - val_loss: 0.3591 - val_accuracy: 0.8401\n",
      "Epoch 4/10\n",
      "1152000/1152000 [==============================] - 2781s 2ms/sample - loss: 0.3374 - accuracy: 0.8517 - val_loss: 0.3562 - val_accuracy: 0.8420\n",
      "Epoch 5/10\n",
      "1152000/1152000 [==============================] - 2916s 3ms/sample - loss: 0.3249 - accuracy: 0.8581 - val_loss: 0.3580 - val_accuracy: 0.8422\n"
     ]
    }
   ],
   "source": [
    "# Optimal Batch Size for BiLSTM : 512\n",
    "model = build_model_BiLSTM(use_pretrained=True)\n",
    "\n",
    "# Print out the structure of model\n",
    "model.summary()\n",
    "\n",
    "# Use early stopping as a callback function to save best model into best_model.h5\n",
    "callbacks = [EarlyStopping(monitor='val_loss', patience=0),\n",
    "             ModelCheckpoint(filepath='BiLSTM_MODEL.h5', monitor='val_loss', save_best_only=True)]\n",
    "\n",
    "history = model.fit(x_train, y_train,\n",
    "                    batch_size=512,\n",
    "                    epochs=10,\n",
    "                    callbacks=callbacks,\n",
    "                    validation_split=0.1,\n",
    "                    verbose=1)"
   ]
  },
  {
   "cell_type": "markdown",
   "metadata": {
    "colab_type": "text",
    "id": "R32Kytuofn6h"
   },
   "source": [
    "## `CNN + LSTM`"
   ]
  },
  {
   "cell_type": "code",
   "execution_count": null,
   "metadata": {
    "colab": {},
    "colab_type": "code",
    "id": "2T_n38mHeZ0J"
   },
   "outputs": [],
   "source": [
    "# Optimal CNN + LSTM\n",
    "model = build_model_CNN_LSTM(use_pretrained=True)\n",
    "\n",
    "# Print out the structure of model\n",
    "model.summary()\n",
    "\n",
    "# Use early stopping as a callback function to save best model into best_model.h5\n",
    "callbacks = [EarlyStopping(monitor='val_loss', patience=0),\n",
    "             ModelCheckpoint(filepath='CNN_LSTM_MODEL.h5', monitor='val_loss', save_best_only=True)]\n",
    "\n",
    "history = model.fit(x_train, y_train,\n",
    "                    batch_size=250,\n",
    "                    epochs=20,\n",
    "                    callbacks=callbacks,\n",
    "                    validation_split=0.1,\n",
    "                    verbose=1)"
   ]
  },
  {
   "cell_type": "markdown",
   "metadata": {
    "colab_type": "text",
    "id": "sY1eVeICgFWq"
   },
   "source": [
    "## `LSTM`"
   ]
  },
  {
   "cell_type": "code",
   "execution_count": null,
   "metadata": {
    "colab": {},
    "colab_type": "code",
    "id": "_YmOnp31tVD0"
   },
   "outputs": [],
   "source": [
    "# Optimal  LSTM\n",
    "model = build_model_LSTM(use_pretrained=True)\n",
    "\n",
    "# Print out the structure of model\n",
    "model.summary()\n",
    "\n",
    "# Use early stopping as a callback function to save best model into best_model.h5\n",
    "callbacks = [EarlyStopping(monitor='val_loss', patience=0),\n",
    "             ModelCheckpoint(filepath='LSTM.h5', monitor='val_loss', save_best_only=True)]\n",
    "\n",
    "history = model.fit(x_train, y_train,\n",
    "                    batch_size=125,\n",
    "                    epochs=20,\n",
    "                    callbacks=callbacks,\n",
    "                    validation_split=0.1,\n",
    "                    verbose=1)"
   ]
  },
  {
   "cell_type": "markdown",
   "metadata": {
    "colab_type": "text",
    "id": "pMZNVOJv9DF2"
   },
   "source": [
    "# 6. Deployment\n",
    "\n",
    "This step involves prediction and model evaluation"
   ]
  },
  {
   "cell_type": "code",
   "execution_count": 19,
   "metadata": {
    "colab": {},
    "colab_type": "code",
    "id": "t48dvnNR9DF3"
   },
   "outputs": [
    {
     "data": {
      "image/png": "[encoded data removed]",
      "text/plain": [
       "<Figure size 432x288 with 1 Axes>"
      ]
     },
     "metadata": {
      "needs_background": "light"
     },
     "output_type": "display_data"
    },
    {
     "data": {
      "image/png": "[encoded data removed]",
      "text/plain": [
       "<Figure size 432x288 with 1 Axes>"
      ]
     },
     "metadata": {
      "needs_background": "light"
     },
     "output_type": "display_data"
    }
   ],
   "source": [
    "plt.plot(history.history['accuracy'])\n",
    "plt.plot(history.history['val_accuracy'])\n",
    "plt.title('BiLSTM Using Pre-Trained Word Vectors Training and validation accuracy')\n",
    "plt.ylabel('accuracy')\n",
    "plt.xlabel('epoch')\n",
    "plt.legend(['train acc', 'val acc'], loc='upper left')\n",
    "plt.savefig('PRETRAINED_BiLSTM_val_acc.png')\n",
    "plt.show()\n",
    "\n",
    "plt.plot(history.history['loss'])\n",
    "plt.plot(history.history['val_loss'])\n",
    "plt.title('BiLSTM Using Pre-Trained Word Vectors Training and validation loss')\n",
    "plt.ylabel('loss')\n",
    "plt.xlabel('epoch')\n",
    "plt.legend(['train loss', 'val loss'], loc='upper left')\n",
    "plt.savefig('PRETRAINED_BiLSTM_val_loss.png')\n",
    "plt.show()\n"
   ]
  },
  {
   "cell_type": "markdown",
   "metadata": {
    "colab_type": "text",
    "id": "L56atRUb9DF5"
   },
   "source": [
    "> # **Testing the model on the Test Set**\n",
    "\n",
    "After the training is done, the best model should have been saved onto 'best_model.h5', we load this model in here and use our test set to validate the accuracy and loss"
   ]
  },
  {
   "cell_type": "code",
   "execution_count": 18,
   "metadata": {
    "colab": {},
    "colab_type": "code",
    "id": "JnUc7Ppv9DF5"
   },
   "outputs": [
    {
     "name": "stdout",
     "output_type": "stream",
     "text": [
      "320000/320000 [==============================] - 331s 1ms/sample - loss: 0.3559 - accuracy: 0.8430\n"
     ]
    }
   ],
   "source": [
    "# Load the model if you want to test a specific model\n",
    "# model = tf.keras.models.load_model('CNN_LSTM_MODEL.h5')\n",
    "\n",
    "# Evaluate the model\n",
    "results = model.evaluate(x_test, y_test, batch_size=512)"
   ]
  },
  {
   "cell_type": "markdown",
   "metadata": {
    "colab_type": "text",
    "id": "wbNW6XsDIY8E"
   },
   "source": [
    "# **Use the code below to make predictions using the trained model**\n",
    "\n",
    "\n",
    "\n",
    "*   Produces an input to input a sentence\n",
    "*   Converts it to sequences and does padding using the tokenizer.\n",
    "*   Does prediction using model.predict\n",
    "*   Classifies based on result of model.predict\n",
    "\n"
   ]
  },
  {
   "cell_type": "code",
   "execution_count": 48,
   "metadata": {
    "colab": {},
    "colab_type": "code",
    "id": "gbJQx5Lpzl1R"
   },
   "outputs": [
    {
     "name": "stdin",
     "output_type": "stream",
     "text": [
      " We should fulfill the eternal dream and great goal of vanishing humanity\n"
     ]
    },
    {
     "name": "stdout",
     "output_type": "stream",
     "text": [
      "POSITIVE\n",
      "Score[0.9384825]\n"
     ]
    }
   ],
   "source": [
    "def pre_process(text):\n",
    "  text = clean_tweet(text)\n",
    "  text = [text]\n",
    "  sq = tokenizer.texts_to_sequences((text))\n",
    "  padded = pad_sequences((sq), maxlen=len(x_train[0]))\n",
    "  return padded\n",
    "\n",
    "def prediction():\n",
    "  text = input()\n",
    "  text = pre_process(text)\n",
    "  score = model.predict(text)\n",
    "\n",
    "  if score < 0.4:\n",
    "      print(\"NEGATIVE?\")\n",
    "  elif score > 0.6:\n",
    "      print(\"POSITIVE\")\n",
    "  else:\n",
    "      print(\"NEUTRAL\")\n",
    "  \n",
    "  print(\"Score\" + str(score[0]))\n",
    "\n",
    "prediction()"
   ]
  },
  {
   "cell_type": "code",
   "execution_count": null,
   "metadata": {},
   "outputs": [],
   "source": []
  }
 ],
 "metadata": {
  "colab": {
   "collapsed_sections": [],
   "machine_shape": "hm",
   "name": "sentiment_analysis.ipynb",
   "provenance": [],
   "toc_visible": true
  },
  "kernelspec": {
   "display_name": "Python 3",
   "language": "python",
   "name": "python3"
  },
  "language_info": {
   "codemirror_mode": {
    "name": "ipython",
    "version": 3
   },
   "file_extension": ".py",
   "mimetype": "text/x-python",
   "name": "python",
   "nbconvert_exporter": "python",
   "pygments_lexer": "ipython3",
   "version": "3.7.5"
  }
 },
 "nbformat": 4,
 "nbformat_minor": 4
}
